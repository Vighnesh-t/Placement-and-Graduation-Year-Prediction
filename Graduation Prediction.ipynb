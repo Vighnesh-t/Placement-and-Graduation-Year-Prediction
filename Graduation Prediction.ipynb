{
 "cells": [
  {
   "cell_type": "code",
   "execution_count": 1,
   "id": "0996b27f",
   "metadata": {},
   "outputs": [],
   "source": [
    "import numpy as np\n",
    "import pandas as pd"
   ]
  },
  {
   "cell_type": "code",
   "execution_count": 9,
   "id": "594b332d",
   "metadata": {},
   "outputs": [],
   "source": [
    "df = pd.read_excel(\"/Users/BaBa/Downloads/Input Data/Year of Graduation Data/Final Lead Data.xlsx\")"
   ]
  },
  {
   "cell_type": "code",
   "execution_count": 10,
   "id": "37e5b123",
   "metadata": {},
   "outputs": [],
   "source": [
    "df['Academic Year'].fillna(0, inplace=True)\n",
    "df['Current Year'].fillna(0, inplace=True)"
   ]
  },
  {
   "cell_type": "code",
   "execution_count": 13,
   "id": "87028a43",
   "metadata": {},
   "outputs": [],
   "source": [
    "df['Academic Year'] = df['Academic Year'].astype(str)\n",
    "df['Current Year'] = df['Current Year'].astype(str)"
   ]
  },
  {
   "cell_type": "code",
   "execution_count": 14,
   "id": "a099c408",
   "metadata": {},
   "outputs": [],
   "source": [
    "df = df[df['Academic Year'].str.isnumeric() & df['Current Year'].str.isnumeric()]\n"
   ]
  },
  {
   "cell_type": "code",
   "execution_count": 15,
   "id": "2c3bc9d5",
   "metadata": {},
   "outputs": [],
   "source": [
    "df['Academic Year'] = df['Academic Year'].astype(int)\n",
    "df['Current Year'] = df['Current Year'].astype(int)\n"
   ]
  },
  {
   "cell_type": "code",
   "execution_count": 17,
   "id": "5d555c23",
   "metadata": {},
   "outputs": [],
   "source": [
    "course_duration = 4"
   ]
  },
  {
   "cell_type": "code",
   "execution_count": 20,
   "id": "5433f701",
   "metadata": {},
   "outputs": [],
   "source": [
    "df['Year of Graduation'] = df['Current Year'] - df['Academic Year'] + course_duration"
   ]
  },
  {
   "cell_type": "code",
   "execution_count": 21,
   "id": "8ddc882c",
   "metadata": {},
   "outputs": [
    {
     "data": {
      "text/html": [
       "<div>\n",
       "<style scoped>\n",
       "    .dataframe tbody tr th:only-of-type {\n",
       "        vertical-align: middle;\n",
       "    }\n",
       "\n",
       "    .dataframe tbody tr th {\n",
       "        vertical-align: top;\n",
       "    }\n",
       "\n",
       "    .dataframe thead th {\n",
       "        text-align: right;\n",
       "    }\n",
       "</style>\n",
       "<table border=\"1\" class=\"dataframe\">\n",
       "  <thead>\n",
       "    <tr style=\"text-align: right;\">\n",
       "      <th></th>\n",
       "      <th>ID</th>\n",
       "      <th>First Name</th>\n",
       "      <th>Email</th>\n",
       "      <th>Created</th>\n",
       "      <th>New College Name</th>\n",
       "      <th>Colleges</th>\n",
       "      <th>Academic Year</th>\n",
       "      <th>Branch/ Specialisation</th>\n",
       "      <th>Other Branch</th>\n",
       "      <th>Current Year</th>\n",
       "      <th>Company Name/ College Name</th>\n",
       "      <th>Year of Graduation</th>\n",
       "    </tr>\n",
       "  </thead>\n",
       "  <tbody>\n",
       "    <tr>\n",
       "      <th>0</th>\n",
       "      <td>68112</td>\n",
       "      <td>ANIKET</td>\n",
       "      <td>aniket@xyz.com</td>\n",
       "      <td>04/27/2022 01:41:38 pm</td>\n",
       "      <td>NaN</td>\n",
       "      <td>NaN</td>\n",
       "      <td>0</td>\n",
       "      <td>NaN</td>\n",
       "      <td>NaN</td>\n",
       "      <td>0</td>\n",
       "      <td>NaN</td>\n",
       "      <td>4</td>\n",
       "    </tr>\n",
       "    <tr>\n",
       "      <th>1</th>\n",
       "      <td>68110</td>\n",
       "      <td>Dhanshree</td>\n",
       "      <td>dhanshree@xyz.com</td>\n",
       "      <td>04/22/2022 04:08:38 pm</td>\n",
       "      <td>Lords Universal College</td>\n",
       "      <td>NaN</td>\n",
       "      <td>0</td>\n",
       "      <td>NaN</td>\n",
       "      <td>NaN</td>\n",
       "      <td>0</td>\n",
       "      <td>NaN</td>\n",
       "      <td>4</td>\n",
       "    </tr>\n",
       "    <tr>\n",
       "      <th>2</th>\n",
       "      <td>68108</td>\n",
       "      <td>Dhiraj</td>\n",
       "      <td>dhiraj@xyz.com</td>\n",
       "      <td>04/16/2022 10:31:59 pm</td>\n",
       "      <td>NaN</td>\n",
       "      <td>NaN</td>\n",
       "      <td>0</td>\n",
       "      <td>NaN</td>\n",
       "      <td>NaN</td>\n",
       "      <td>0</td>\n",
       "      <td>NaN</td>\n",
       "      <td>4</td>\n",
       "    </tr>\n",
       "    <tr>\n",
       "      <th>3</th>\n",
       "      <td>68106</td>\n",
       "      <td>Pooja</td>\n",
       "      <td>pooja@xyz.com</td>\n",
       "      <td>04/13/2022 10:05:15 pm</td>\n",
       "      <td>NaN</td>\n",
       "      <td>NaN</td>\n",
       "      <td>0</td>\n",
       "      <td>NaN</td>\n",
       "      <td>NaN</td>\n",
       "      <td>0</td>\n",
       "      <td>NaN</td>\n",
       "      <td>4</td>\n",
       "    </tr>\n",
       "    <tr>\n",
       "      <th>4</th>\n",
       "      <td>68090</td>\n",
       "      <td>Aayush</td>\n",
       "      <td>aayush@xyz.com</td>\n",
       "      <td>03/26/2022 07:02:48 pm</td>\n",
       "      <td>B.k Birla college</td>\n",
       "      <td>NaN</td>\n",
       "      <td>0</td>\n",
       "      <td>NaN</td>\n",
       "      <td>NaN</td>\n",
       "      <td>0</td>\n",
       "      <td>NaN</td>\n",
       "      <td>4</td>\n",
       "    </tr>\n",
       "  </tbody>\n",
       "</table>\n",
       "</div>"
      ],
      "text/plain": [
       "      ID First Name              Email                 Created  \\\n",
       "0  68112     ANIKET     aniket@xyz.com  04/27/2022 01:41:38 pm   \n",
       "1  68110  Dhanshree  dhanshree@xyz.com  04/22/2022 04:08:38 pm   \n",
       "2  68108     Dhiraj     dhiraj@xyz.com  04/16/2022 10:31:59 pm   \n",
       "3  68106      Pooja      pooja@xyz.com  04/13/2022 10:05:15 pm   \n",
       "4  68090     Aayush     aayush@xyz.com  03/26/2022 07:02:48 pm   \n",
       "\n",
       "          New College Name Colleges  Academic Year Branch/ Specialisation  \\\n",
       "0                      NaN      NaN              0                    NaN   \n",
       "1  Lords Universal College      NaN              0                    NaN   \n",
       "2                      NaN      NaN              0                    NaN   \n",
       "3                      NaN      NaN              0                    NaN   \n",
       "4        B.k Birla college      NaN              0                    NaN   \n",
       "\n",
       "  Other Branch  Current Year Company Name/ College Name  Year of Graduation  \n",
       "0          NaN             0                        NaN                   4  \n",
       "1          NaN             0                        NaN                   4  \n",
       "2          NaN             0                        NaN                   4  \n",
       "3          NaN             0                        NaN                   4  \n",
       "4          NaN             0                        NaN                   4  "
      ]
     },
     "execution_count": 21,
     "metadata": {},
     "output_type": "execute_result"
    }
   ],
   "source": [
    "df.head()"
   ]
  },
  {
   "cell_type": "code",
   "execution_count": 22,
   "id": "912383ca",
   "metadata": {},
   "outputs": [],
   "source": [
    "output_file_path = \"/Users/BaBa/Downloads/Input Data/updated_data.xlsx\""
   ]
  },
  {
   "cell_type": "code",
   "execution_count": 23,
   "id": "fe5c6320",
   "metadata": {},
   "outputs": [],
   "source": [
    "df.to_excel(output_file_path, index=False)"
   ]
  },
  {
   "cell_type": "code",
   "execution_count": null,
   "id": "9170d818",
   "metadata": {},
   "outputs": [],
   "source": []
  }
 ],
 "metadata": {
  "kernelspec": {
   "display_name": "Python 3 (ipykernel)",
   "language": "python",
   "name": "python3"
  },
  "language_info": {
   "codemirror_mode": {
    "name": "ipython",
    "version": 3
   },
   "file_extension": ".py",
   "mimetype": "text/x-python",
   "name": "python",
   "nbconvert_exporter": "python",
   "pygments_lexer": "ipython3",
   "version": "3.9.13"
  }
 },
 "nbformat": 4,
 "nbformat_minor": 5
}
